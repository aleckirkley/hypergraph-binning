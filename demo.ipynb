{
 "cells": [
  {
   "cell_type": "code",
   "execution_count": 1,
   "id": "82fa2714-f824-4abc-8d81-51fa1fc048d6",
   "metadata": {},
   "outputs": [
    {
     "name": "stdout",
     "output_type": "stream",
     "text": [
      "Exact Dynamic Program Results: \n",
      "     compression ratio = 0.8502\n",
      "     MDL-optimal event partition = [0 0 0 0 0 1 1 1 1 1]\n",
      "     number of time steps = 189\n",
      "     runtime = 0.0711\n",
      "Greedy Algorithm Results: \n",
      "     compression ratio = 0.8581\n",
      "     MDL-optimal event partition = [0 0 0 0 0 0 1 1 1 1]\n",
      "     number of time steps = 189\n",
      "     runtime = 0.0213\n"
     ]
    }
   ],
   "source": [
    "from functions import MDL_hypergraph_binning\n",
    "import time\n",
    "\n",
    "#example event dataset X and time step width dt\n",
    "X = [('a1','b2',1,1.1),('a1','b3',1,1.5),('a1','b2',1,1.6),('a2','b2',1,1.7),('a2','b3',1,1.9),\\\n",
    "    ('a4','b5',1,5.5),('a1','b3',1,150),('a1','b3',1,160),('a4','b6',1,170),('a2','b3',1,190)]\n",
    "dt = 1\n",
    "\n",
    "start_exact = time.time()\n",
    "results_exact = MDL_hypergraph_binning(X,dt,exact=True)\n",
    "runtime_exact = time.time() - start_exact\n",
    "\n",
    "start_greedy = time.time()\n",
    "results_greedy = MDL_hypergraph_binning(X,dt,exact=False)\n",
    "runtime_greedy = time.time() - start_greedy\n",
    "\n",
    "print('Exact Dynamic Program Results: ')\n",
    "print('     compression ratio =',round(results_exact[0],4))\n",
    "print('     MDL-optimal event partition =',results_exact[1])\n",
    "print('     number of time steps =',results_exact[2])\n",
    "print('     runtime =',round(runtime_exact,4))\n",
    "\n",
    "print('Greedy Algorithm Results: ')\n",
    "print('     compression ratio =',round(results_greedy[0],4))\n",
    "print('     MDL-optimal event partition =',results_greedy[1])\n",
    "print('     number of time steps =',results_greedy[2])\n",
    "print('     runtime =',round(runtime_greedy,4))"
   ]
  },
  {
   "cell_type": "code",
   "execution_count": null,
   "id": "9d15384e-4346-453e-8891-b7e9fc51ab0e",
   "metadata": {},
   "outputs": [],
   "source": []
  }
 ],
 "metadata": {
  "kernelspec": {
   "display_name": "Python 3 (ipykernel)",
   "language": "python",
   "name": "python3"
  },
  "language_info": {
   "codemirror_mode": {
    "name": "ipython",
    "version": 3
   },
   "file_extension": ".py",
   "mimetype": "text/x-python",
   "name": "python",
   "nbconvert_exporter": "python",
   "pygments_lexer": "ipython3",
   "version": "3.10.5"
  }
 },
 "nbformat": 4,
 "nbformat_minor": 5
}
